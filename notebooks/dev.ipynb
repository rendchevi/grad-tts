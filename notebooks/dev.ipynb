{
 "cells": [
  {
   "cell_type": "code",
   "execution_count": 1,
   "metadata": {},
   "outputs": [
    {
     "name": "stdout",
     "output_type": "stream",
     "text": [
      "/home/branch/rnd/research-pt2/grad-tts\n"
     ]
    }
   ],
   "source": [
    "%load_ext autoreload\n",
    "%autoreload 2\n",
    "%cd .."
   ]
  },
  {
   "cell_type": "code",
   "execution_count": 2,
   "metadata": {},
   "outputs": [],
   "source": [
    "import warnings\n",
    "warnings.filterwarnings(\"ignore\")\n",
    "\n",
    "import os\n",
    "import json\n",
    "import sys\n",
    "import dotsi\n",
    "\n",
    "import numpy as np\n",
    "import pandas as pd\n",
    "import matplotlib.pyplot as plt\n",
    "from sklearn.decomposition import PCA\n",
    "\n",
    "import torch \n",
    "\n",
    "from utils import DictToAttr, Struct, AttrDict\n",
    "from data import TextMelSpeakerDataset, TextMelSpeakerBatchCollate\n",
    "\n",
    "import params\n",
    "from model.tts import GradTTS"
   ]
  },
  {
   "cell_type": "code",
   "execution_count": 3,
   "metadata": {},
   "outputs": [],
   "source": [
    "# [PREPARE CONFIG]\n",
    "config = {\n",
    "    \"dataset\": {\n",
    "        \"train_metadata_paths\": [\n",
    "            [\"resources/filelists/esd-0011/train.txt\", \"/home/branch/Downloads/ESD/ESD/0011\"],\n",
    "            [\"resources/filelists/esd-0012/train.txt\", \"/home/branch/Downloads/ESD/ESD/0012\"],\n",
    "            [\"resources/filelists/esd-0013/train.txt\", \"/home/branch/Downloads/ESD/ESD/0013\"],\n",
    "            [\"resources/filelists/esd-0014/train.txt\", \"/home/branch/Downloads/ESD/ESD/0014\"],\n",
    "            [\"resources/filelists/esd-0015/train.txt\", \"/home/branch/Downloads/ESD/ESD/0015\"],\n",
    "            [\"resources/filelists/esd-0016/train.txt\", \"/home/branch/Downloads/ESD/ESD/0016\"],\n",
    "            [\"resources/filelists/esd-0017/train.txt\", \"/home/branch/Downloads/ESD/ESD/0017\"],\n",
    "            [\"resources/filelists/esd-0018/train.txt\", \"/home/branch/Downloads/ESD/ESD/0018\"],\n",
    "            [\"resources/filelists/esd-0019/train.txt\", \"/home/branch/Downloads/ESD/ESD/0019\"],\n",
    "            [\"resources/filelists/esd-0020/train.txt\", \"/home/branch/Downloads/ESD/ESD/0020\"],\n",
    "        ],\n",
    "        \"eval_metadata_paths\": [\n",
    "            [\"resources/filelists/esd-0011/eval.txt\", \"/home/branch/Downloads/ESD/ESD/0011\"],\n",
    "            [\"resources/filelists/esd-0012/eval.txt\", \"/home/branch/Downloads/ESD/ESD/0012\"],\n",
    "            [\"resources/filelists/esd-0013/eval.txt\", \"/home/branch/Downloads/ESD/ESD/0013\"],\n",
    "            [\"resources/filelists/esd-0014/eval.txt\", \"/home/branch/Downloads/ESD/ESD/0014\"],\n",
    "            [\"resources/filelists/esd-0015/eval.txt\", \"/home/branch/Downloads/ESD/ESD/0015\"],\n",
    "            [\"resources/filelists/esd-0016/eval.txt\", \"/home/branch/Downloads/ESD/ESD/0016\"],\n",
    "            [\"resources/filelists/esd-0017/eval.txt\", \"/home/branch/Downloads/ESD/ESD/0017\"],\n",
    "            [\"resources/filelists/esd-0018/eval.txt\", \"/home/branch/Downloads/ESD/ESD/0018\"],\n",
    "            [\"resources/filelists/esd-0019/eval.txt\", \"/home/branch/Downloads/ESD/ESD/0019\"],\n",
    "            [\"resources/filelists/esd-0020/eval.txt\", \"/home/branch/Downloads/ESD/ESD/0020\"],\n",
    "        ],\n",
    "        \"label2id_path\": \"resources/esd_emotion.json\",\n",
    "        \"cmudict_path\": \"resources/cmu_dictionary\",\n",
    "        \"eval_texts\": [\n",
    "            \"In all these lines the facts are drawn together by a strong thread of unity.\",\n",
    "            \"After the construction and action of the machine had been explained, the doctor asked the governor what kind of men he had commanded at Goree.\",\n",
    "            \"After a few years of active exertion the Society was rewarded by fresh legislation.\",\n",
    "        ]\n",
    "    },\n",
    "    \"training\": {\n",
    "        \"device\": \"cpu\",\n",
    "        \"batch_size\": 3,\n",
    "        \"num_workers\": 1,\n",
    "        \"lr_init\": 1e-4,\n",
    "        \"n_epochs\": 999,\n",
    "        \"global_step\": 0,\n",
    "        \"saveroot\": \"/home/branch/rnd/misc/exp-test/daisy-test-a10\",\n",
    "        \"eval_every\": 3,\n",
    "    }\n",
    "}\n",
    "\n",
    "config = dotsi.Dict(config)"
   ]
  },
  {
   "cell_type": "code",
   "execution_count": 4,
   "metadata": {},
   "outputs": [],
   "source": [
    "# [PREPARE DATASET]\n",
    "label2id = json.load(open(config.dataset.label2id_path, \"r\"))\n",
    "id2label = {label2id[l]:l for l in label2id.keys()}\n",
    "\n",
    "train_dataset = torch.utils.data.ConcatDataset([\n",
    "    TextMelSpeakerDataset(\n",
    "        filelist_path=filelist_path,\n",
    "        cmudict_path=config.dataset.cmudict_path,\n",
    "        split_char=\"|\",\n",
    "        label2id_path=config.dataset.label2id_path,\n",
    "        fileroot=fileroot,\n",
    "    )\n",
    "    for filelist_path, fileroot in config.dataset.train_metadata_paths\n",
    "])\n",
    "\n",
    "train_loader = torch.utils.data.DataLoader(\n",
    "    train_dataset,\n",
    "    batch_size=config.training.batch_size,\n",
    "    collate_fn=TextMelSpeakerBatchCollate(),\n",
    "    shuffle=True,\n",
    "    num_workers=config.training.num_workers,\n",
    ")\n",
    "\n",
    "if config.dataset.eval_metadata_paths is not None:\n",
    "    eval_dataset = torch.utils.data.ConcatDataset([\n",
    "        TextMelSpeakerDataset(\n",
    "            filelist_path=filelist_path,\n",
    "            cmudict_path=config.dataset.cmudict_path,\n",
    "            split_char=\"|\",\n",
    "            label2id_path=config.dataset.label2id_path,\n",
    "            fileroot=fileroot,\n",
    "        )\n",
    "        for filelist_path, fileroot in config.dataset.eval_metadata_paths\n",
    "    ])\n",
    "\n",
    "    eval_loader = torch.utils.data.DataLoader(\n",
    "        eval_dataset,\n",
    "        batch_size=config.training.batch_size,\n",
    "        collate_fn=TextMelSpeakerBatchCollate(),\n",
    "        shuffle=False,\n",
    "        num_workers=config.training.num_workers,\n",
    "    )"
   ]
  },
  {
   "cell_type": "code",
   "execution_count": 5,
   "metadata": {},
   "outputs": [],
   "source": [
    "# [PREPARE MODEL]\n",
    "model = GradTTS(\n",
    "    n_vocab=params.n_vocab,\n",
    "    n_spks=params.n_spks,\n",
    "    spk_emb_dim=params.spk_emb_dim,\n",
    "    n_enc_channels=params.n_enc_channels,\n",
    "    filter_channels=params.filter_channels,\n",
    "    filter_channels_dp=params.filter_channels_dp, \n",
    "    n_heads=params.n_heads, n_enc_layers=params.n_enc_layers,\n",
    "    enc_kernel=params.enc_kernel, enc_dropout=params.enc_dropout, window_size=params.window_size, \n",
    "    n_feats=params.n_feats, dec_dim=params.dec_dim,\n",
    "    beta_min=params.beta_min, beta_max=params.beta_max, pe_scale=params.pe_scale,\n",
    "    with_reference_encoder=params.with_reference_encoder,\n",
    "    re_n_feats=params.re_n_feats,\n",
    "    re_n_channels=params.re_n_channels,\n",
    "    re_filter_channels=params.re_filter_channels,\n",
    "    re_n_heads=params.re_n_heads,\n",
    "    re_n_layers=params.re_n_layers,\n",
    "    re_kernel_size=params.re_kernel_size,\n",
    "    re_p_dropout=params.re_p_dropout,\n",
    "    with_film=params.with_film,\n",
    ")\n",
    "\n",
    "_ = model.to(config.training.device)"
   ]
  },
  {
   "cell_type": "code",
   "execution_count": 6,
   "metadata": {},
   "outputs": [],
   "source": [
    "# [PREPARE OPTIMIZER AND CRITERION]\n",
    "optimizer = torch.optim.AdamW(model.parameters(), lr=config.training.lr_init)"
   ]
  },
  {
   "cell_type": "code",
   "execution_count": 7,
   "metadata": {},
   "outputs": [],
   "source": [
    "# [PREPARE CHECKPOINT DIRECTORY]\n",
    "os.makedirs(os.path.join(config.training.saveroot), exist_ok=True)\n",
    "os.makedirs(os.path.join(config.training.saveroot, \"logs\"), exist_ok=True)\n",
    "os.makedirs(os.path.join(config.training.saveroot, \"checkpoints\"), exist_ok=True)"
   ]
  },
  {
   "cell_type": "code",
   "execution_count": 12,
   "metadata": {},
   "outputs": [
    {
     "name": "stdout",
     "output_type": "stream",
     "text": [
      "[epoch] 1/3 [step] 3/4995 [loss] 19.675281524658203\n",
      "===> Evaluating...\n",
      "[epoch] 1/6 [step] 6/4995 [loss] 19.381908416748047\n",
      "===> Evaluating...\n",
      "[epoch] 1/9 [step] 9/4995 [loss] 17.178924560546875\n",
      "===> Evaluating...\n",
      "[epoch] 1/12 [step] 12/4995 [loss] 14.079953193664555\n",
      "===> Evaluating...\n",
      "5/334"
     ]
    },
    {
     "ename": "KeyboardInterrupt",
     "evalue": "",
     "output_type": "error",
     "traceback": [
      "\u001b[0;31m---------------------------------------------------------------------------\u001b[0m",
      "\u001b[0;31mKeyboardInterrupt\u001b[0m                         Traceback (most recent call last)",
      "Cell \u001b[0;32mIn[12], line 23\u001b[0m\n\u001b[1;32m     20\u001b[0m loss \u001b[39m=\u001b[39m dur_loss \u001b[39m+\u001b[39m prior_loss \u001b[39m+\u001b[39m diff_loss \u001b[39m+\u001b[39m aux_clf_loss\n\u001b[1;32m     22\u001b[0m \u001b[39m# Backprop\u001b[39;00m\n\u001b[0;32m---> 23\u001b[0m loss\u001b[39m.\u001b[39;49mbackward()\n\u001b[1;32m     24\u001b[0m optimizer\u001b[39m.\u001b[39mstep()\n\u001b[1;32m     26\u001b[0m \u001b[39m# Logging\u001b[39;00m\n",
      "File \u001b[0;32m~/miniconda3/envs/vus/lib/python3.8/site-packages/torch/_tensor.py:255\u001b[0m, in \u001b[0;36mTensor.backward\u001b[0;34m(self, gradient, retain_graph, create_graph, inputs)\u001b[0m\n\u001b[1;32m    246\u001b[0m \u001b[39mif\u001b[39;00m has_torch_function_unary(\u001b[39mself\u001b[39m):\n\u001b[1;32m    247\u001b[0m     \u001b[39mreturn\u001b[39;00m handle_torch_function(\n\u001b[1;32m    248\u001b[0m         Tensor\u001b[39m.\u001b[39mbackward,\n\u001b[1;32m    249\u001b[0m         (\u001b[39mself\u001b[39m,),\n\u001b[0;32m   (...)\u001b[0m\n\u001b[1;32m    253\u001b[0m         create_graph\u001b[39m=\u001b[39mcreate_graph,\n\u001b[1;32m    254\u001b[0m         inputs\u001b[39m=\u001b[39minputs)\n\u001b[0;32m--> 255\u001b[0m torch\u001b[39m.\u001b[39;49mautograd\u001b[39m.\u001b[39;49mbackward(\u001b[39mself\u001b[39;49m, gradient, retain_graph, create_graph, inputs\u001b[39m=\u001b[39;49minputs)\n",
      "File \u001b[0;32m~/miniconda3/envs/vus/lib/python3.8/site-packages/torch/autograd/__init__.py:147\u001b[0m, in \u001b[0;36mbackward\u001b[0;34m(tensors, grad_tensors, retain_graph, create_graph, grad_variables, inputs)\u001b[0m\n\u001b[1;32m    144\u001b[0m \u001b[39mif\u001b[39;00m retain_graph \u001b[39mis\u001b[39;00m \u001b[39mNone\u001b[39;00m:\n\u001b[1;32m    145\u001b[0m     retain_graph \u001b[39m=\u001b[39m create_graph\n\u001b[0;32m--> 147\u001b[0m Variable\u001b[39m.\u001b[39;49m_execution_engine\u001b[39m.\u001b[39;49mrun_backward(\n\u001b[1;32m    148\u001b[0m     tensors, grad_tensors_, retain_graph, create_graph, inputs,\n\u001b[1;32m    149\u001b[0m     allow_unreachable\u001b[39m=\u001b[39;49m\u001b[39mTrue\u001b[39;49;00m, accumulate_grad\u001b[39m=\u001b[39;49m\u001b[39mTrue\u001b[39;49;00m)\n",
      "File \u001b[0;32m~/miniconda3/envs/vus/lib/python3.8/site-packages/torch/autograd/function.py:85\u001b[0m, in \u001b[0;36mBackwardCFunction.apply\u001b[0;34m(self, *args)\u001b[0m\n\u001b[1;32m     84\u001b[0m \u001b[39mclass\u001b[39;00m \u001b[39mBackwardCFunction\u001b[39;00m(_C\u001b[39m.\u001b[39m_FunctionBase, _ContextMethodMixin, _HookMixin):\n\u001b[0;32m---> 85\u001b[0m     \u001b[39mdef\u001b[39;00m \u001b[39mapply\u001b[39m(\u001b[39mself\u001b[39m, \u001b[39m*\u001b[39margs):\n\u001b[1;32m     86\u001b[0m         \u001b[39m# _forward_cls is defined by derived class\u001b[39;00m\n\u001b[1;32m     87\u001b[0m         \u001b[39mreturn\u001b[39;00m \u001b[39mself\u001b[39m\u001b[39m.\u001b[39m_forward_cls\u001b[39m.\u001b[39mbackward(\u001b[39mself\u001b[39m, \u001b[39m*\u001b[39margs)\n",
      "\u001b[0;31mKeyboardInterrupt\u001b[0m: "
     ]
    }
   ],
   "source": [
    "# [TRAINING LOOP]\n",
    "loss_hist = list()\n",
    "global_step = config.training.global_step\n",
    "\n",
    "_ = model.train()\n",
    "for epoch in range(config.training.n_epochs):\n",
    "    for step, batch in enumerate(train_loader):\n",
    "\n",
    "        # Forward-pass\n",
    "        optimizer.zero_grad()\n",
    "\n",
    "        dur_loss, prior_loss, diff_loss, aux_clf_loss = model.compute_loss(\n",
    "            batch[\"x\"].to(config.training.device), batch[\"x_lengths\"].to(config.training.device),\n",
    "            batch[\"y\"].to(config.training.device), batch[\"y_lengths\"].to(config.training.device),\n",
    "            labels=batch[\"spk\"].to(config.training.device),\n",
    "            out_size=params.out_size,\n",
    "        )\n",
    "\n",
    "        # Compute loss\n",
    "        loss = dur_loss + prior_loss + diff_loss + aux_clf_loss\n",
    "\n",
    "        # Backprop\n",
    "        loss.backward()\n",
    "        optimizer.step()\n",
    "        \n",
    "        # Logging\n",
    "        loss_hist.append(loss.item())\n",
    "        global_step += 1\n",
    "        sys.stdout.write(f\"\\r[epoch] {epoch+1}/{global_step} [step] {step+1}/{len(train_loader)} [loss] {loss.item()}\")\n",
    "        \n",
    "        # Evaluation\n",
    "        if (global_step % config.training.eval_every) == 0:\n",
    "\n",
    "            # Create steps checkpoint folder\n",
    "            os.makedirs(\n",
    "                os.path.join(config.training.saveroot, \"checkpoints\", str(global_step)),\n",
    "                exist_ok=True,\n",
    "            )\n",
    "\n",
    "            # Do evaluation\n",
    "            print(\"\\n===> Evaluating...\")\n",
    "            if eval_dataset is not None:\n",
    "                eval_embeds = list()\n",
    "                eval_ids = list()\n",
    "                _ = model.eval()\n",
    "                for step, batch in enumerate(eval_loader):\n",
    "                    with torch.no_grad():\n",
    "                        # Extract embeddings\n",
    "                        ref_embeddings, gammas, betas = model.reference_encoder(\n",
    "                            batch[\"y\"].to(config.training.device),\n",
    "                            batch[\"y_lengths\"].to(config.training.device),\n",
    "                        )\n",
    "                        \n",
    "                    eval_embeds.append(ref_embeddings.cpu())\n",
    "                    eval_ids.append(batch[\"spk\"].cpu())\n",
    "\n",
    "                    sys.stdout.write(f\"\\r{step+1}/{len(eval_loader)}\")\n",
    "                    if step > 3:\n",
    "                        break\n",
    "                \n",
    "                # Examine projected embeddings\n",
    "                eval_embeds = torch.cat(eval_embeds).cpu()\n",
    "                eval_ids = torch.cat(eval_ids).cpu()\n",
    "                \n",
    "                eval_embeds_pcs = PCA().fit_transform(eval_embeds)\n",
    "\n",
    "                plt.title(f\"Global Step: {global_step}\")\n",
    "                for emo_id in torch.unique(eval_ids).numpy():\n",
    "                    idxs = np.argwhere(eval_ids == emo_id).flatten()\n",
    "                    plt.scatter(eval_embeds_pcs[idxs,0], eval_embeds_pcs[idxs,1], label=id2label[emo_id], alpha=0.33)\n",
    "                plt.legend(loc=\"best\")\n",
    "                plt.savefig(os.path.join(config.training.saveroot, \"checkpoints\", str(global_step), \"eval_emo_pcs.png\"))\n",
    "                plt.close()\n",
    "                \n",
    "                _ = model.train()\n",
    "\n",
    "                # Save checkpoint\n",
    "                ### Save loss history\n",
    "                pd.DataFrame(loss_hist, columns=[\"loss\"]).to_csv(\n",
    "                    os.path.join(config.training.saveroot, \"checkpoints\", str(global_step), \"losses.tsv\"),\n",
    "                    sep=\"\\t\",\n",
    "                    index=None,\n",
    "                )\n",
    "                ### Save config\n",
    "                with open(os.path.join(config.training.saveroot, \"checkpoints\", str(global_step), \"config.json\"), 'w', encoding='utf-8') as f:\n",
    "                    json.dump(config, f, ensure_ascii=False, indent=4)\n",
    "                ### Save optimizer\n",
    "                torch.save(\n",
    "                    optimizer.state_dict(),\n",
    "                    os.path.join(config.training.saveroot, \"checkpoints\", str(global_step), \"optimizer_state.pt\")\n",
    "                )\n",
    "                ### Save weights\n",
    "                torch.save(\n",
    "                    model.state_dict(),\n",
    "                    os.path.join(config.training.saveroot, \"checkpoints\", str(global_step), \"model_weights.pt\")\n",
    "                )\n",
    "\n",
    "    #     break\n",
    "    # break\n",
    "\n"
   ]
  },
  {
   "cell_type": "code",
   "execution_count": 9,
   "metadata": {},
   "outputs": [
    {
     "data": {
      "text/plain": [
       "{'dataset': {'train_metadata_paths': [['resources/filelists/esd-0011/train.txt',\n",
       "    '/home/branch/Downloads/ESD/ESD/0011'],\n",
       "   ['resources/filelists/esd-0012/train.txt',\n",
       "    '/home/branch/Downloads/ESD/ESD/0012'],\n",
       "   ['resources/filelists/esd-0013/train.txt',\n",
       "    '/home/branch/Downloads/ESD/ESD/0013'],\n",
       "   ['resources/filelists/esd-0014/train.txt',\n",
       "    '/home/branch/Downloads/ESD/ESD/0014'],\n",
       "   ['resources/filelists/esd-0015/train.txt',\n",
       "    '/home/branch/Downloads/ESD/ESD/0015'],\n",
       "   ['resources/filelists/esd-0016/train.txt',\n",
       "    '/home/branch/Downloads/ESD/ESD/0016'],\n",
       "   ['resources/filelists/esd-0017/train.txt',\n",
       "    '/home/branch/Downloads/ESD/ESD/0017'],\n",
       "   ['resources/filelists/esd-0018/train.txt',\n",
       "    '/home/branch/Downloads/ESD/ESD/0018'],\n",
       "   ['resources/filelists/esd-0019/train.txt',\n",
       "    '/home/branch/Downloads/ESD/ESD/0019'],\n",
       "   ['resources/filelists/esd-0020/train.txt',\n",
       "    '/home/branch/Downloads/ESD/ESD/0020']],\n",
       "  'eval_metadata_paths': [['resources/filelists/esd-0011/eval.txt',\n",
       "    '/home/branch/Downloads/ESD/ESD/0011'],\n",
       "   ['resources/filelists/esd-0012/eval.txt',\n",
       "    '/home/branch/Downloads/ESD/ESD/0012'],\n",
       "   ['resources/filelists/esd-0013/eval.txt',\n",
       "    '/home/branch/Downloads/ESD/ESD/0013'],\n",
       "   ['resources/filelists/esd-0014/eval.txt',\n",
       "    '/home/branch/Downloads/ESD/ESD/0014'],\n",
       "   ['resources/filelists/esd-0015/eval.txt',\n",
       "    '/home/branch/Downloads/ESD/ESD/0015'],\n",
       "   ['resources/filelists/esd-0016/eval.txt',\n",
       "    '/home/branch/Downloads/ESD/ESD/0016'],\n",
       "   ['resources/filelists/esd-0017/eval.txt',\n",
       "    '/home/branch/Downloads/ESD/ESD/0017'],\n",
       "   ['resources/filelists/esd-0018/eval.txt',\n",
       "    '/home/branch/Downloads/ESD/ESD/0018'],\n",
       "   ['resources/filelists/esd-0019/eval.txt',\n",
       "    '/home/branch/Downloads/ESD/ESD/0019'],\n",
       "   ['resources/filelists/esd-0020/eval.txt',\n",
       "    '/home/branch/Downloads/ESD/ESD/0020']],\n",
       "  'label2id_path': 'resources/esd_emotion.json',\n",
       "  'cmudict_path': 'resources/cmu_dictionary',\n",
       "  'eval_texts': ['In all these lines the facts are drawn together by a strong thread of unity.',\n",
       "   'After the construction and action of the machine had been explained, the doctor asked the governor what kind of men he had commanded at Goree.',\n",
       "   'After a few years of active exertion the Society was rewarded by fresh legislation.']},\n",
       " 'training': {'device': 'cpu',\n",
       "  'batch_size': 3,\n",
       "  'num_workers': 1,\n",
       "  'lr_init': 0.0001,\n",
       "  'n_epochs': 999,\n",
       "  'global_step': 0,\n",
       "  'saveroot': '/home/branch/rnd/misc/exp-test/daisy-test-a10',\n",
       "  'eval_every': 3}}"
      ]
     },
     "execution_count": 9,
     "metadata": {},
     "output_type": "execute_result"
    }
   ],
   "source": [
    "config"
   ]
  },
  {
   "cell_type": "code",
   "execution_count": 19,
   "metadata": {},
   "outputs": [],
   "source": [
    "with torch.no_grad():\n",
    "    dur_loss, prior_loss, diff_loss, aux_clf_loss = model.compute_loss(\n",
    "        batch[\"x\"].to(config.training.device), batch[\"x_lengths\"].to(config.training.device),\n",
    "        batch[\"y\"].to(config.training.device), batch[\"y_lengths\"].to(config.training.device),\n",
    "        labels=batch[\"spk\"].to(config.training.device),\n",
    "        out_size=params.out_size,\n",
    "    )"
   ]
  },
  {
   "cell_type": "code",
   "execution_count": 15,
   "metadata": {},
   "outputs": [
    {
     "data": {
      "text/plain": [
       "tensor([2, 3, 2])"
      ]
     },
     "execution_count": 15,
     "metadata": {},
     "output_type": "execute_result"
    }
   ],
   "source": [
    "batch[\"spk\"]"
   ]
  },
  {
   "cell_type": "code",
   "execution_count": 10,
   "metadata": {},
   "outputs": [],
   "source": [
    "with torch.no_grad():\n",
    "    u, b, g = model.reference_encoder(batch[\"y\"], batch[\"y_lengths\"])"
   ]
  },
  {
   "cell_type": "code",
   "execution_count": 11,
   "metadata": {},
   "outputs": [
    {
     "data": {
      "text/plain": [
       "(torch.Size([3, 6, 192, 1]),\n",
       " torch.Size([3, 6, 192, 1]),\n",
       " torch.Size([3, 80, 336]))"
      ]
     },
     "execution_count": 11,
     "metadata": {},
     "output_type": "execute_result"
    }
   ],
   "source": [
    "b.shape, g.shape, u.shape"
   ]
  },
  {
   "cell_type": "code",
   "execution_count": 61,
   "metadata": {},
   "outputs": [],
   "source": [
    "from glob import glob\n",
    "from shutil import copyfile\n",
    "import pandas as pd"
   ]
  },
  {
   "cell_type": "code",
   "execution_count": 65,
   "metadata": {},
   "outputs": [],
   "source": [
    "# for df_name in glob(\"resources/filelists/esd*/*.txt\"):\n",
    "#     df = pd.read_csv(df_name, sep=\"|\", names=[\"x\",\"y\",\"z\"])\n",
    "#     df[\"z\"] = [str(i).capitalize() for i in df[\"z\"].to_list()]\n",
    "#     df.to_csv(df_name, header=False, index=None, sep=\"|\")\n",
    "\n",
    "# for df_name in glob(\"/home/branch/rnd/datasets/esd-0*/*.txt\"):\n",
    "#     idd = df_name.split(\"/\")[-2]\n",
    "#     tdd = df_name.split(\"/\")[-1]\n",
    "#     tg_name = f\"resources/filelists/{idd}/{tdd}\"\n",
    "#     copyfile(df_name, tg_name)"
   ]
  },
  {
   "cell_type": "code",
   "execution_count": 64,
   "metadata": {},
   "outputs": [],
   "source": []
  },
  {
   "cell_type": "code",
   "execution_count": null,
   "metadata": {},
   "outputs": [],
   "source": []
  },
  {
   "cell_type": "code",
   "execution_count": null,
   "metadata": {},
   "outputs": [],
   "source": []
  },
  {
   "cell_type": "code",
   "execution_count": null,
   "metadata": {},
   "outputs": [],
   "source": []
  },
  {
   "cell_type": "code",
   "execution_count": null,
   "metadata": {},
   "outputs": [],
   "source": []
  }
 ],
 "metadata": {
  "kernelspec": {
   "display_name": "vus",
   "language": "python",
   "name": "python3"
  },
  "language_info": {
   "codemirror_mode": {
    "name": "ipython",
    "version": 3
   },
   "file_extension": ".py",
   "mimetype": "text/x-python",
   "name": "python",
   "nbconvert_exporter": "python",
   "pygments_lexer": "ipython3",
   "version": "3.8.15"
  },
  "orig_nbformat": 4,
  "vscode": {
   "interpreter": {
    "hash": "66f98d17e3c2d6111872a49678c74620fbc2f4ca3df968e5cc085e4ab2421a4f"
   }
  }
 },
 "nbformat": 4,
 "nbformat_minor": 2
}
